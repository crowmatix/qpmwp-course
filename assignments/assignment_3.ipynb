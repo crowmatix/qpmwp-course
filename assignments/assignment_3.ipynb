{
 "cells": [
  {
   "cell_type": "markdown",
   "metadata": {},
   "source": [
    "# Assignment 3\n",
    "\n",
    "Deadline: 09.04.2025 12:00 CET\n",
    "\n",
    "<Add your name, student-id and emal address>"
   ]
  },
  {
   "cell_type": "code",
   "execution_count": 2,
   "metadata": {},
   "outputs": [],
   "source": [
    "# Standard library imports\n",
    "import os\n",
    "import sys\n",
    "import types\n",
    "\n",
    "# Third party imports\n",
    "import numpy as np\n",
    "import pandas as pd\n",
    "\n",
    "# Add the project root directory to Python path\n",
    "# Load environment variables from .env file\n",
    "from dotenv import load_dotenv\n",
    "load_dotenv()\n",
    "src_path = os.getenv('PROJECT_SOURCE_DIR')\n",
    "#print(src_path)\n",
    "sys.path.append(src_path)\n",
    "\n",
    "# Local modules imports\n",
    "from helper_functions import load_data_msci\n",
    "from estimation.covariance import Covariance\n",
    "from estimation.expected_return import ExpectedReturn\n",
    "from optimization.optimization import MeanVariance\n",
    "from backtesting.backtest_item_builder_classes import (\n",
    "    SelectionItemBuilder,\n",
    "    OptimizationItemBuilder,\n",
    ")\n",
    "from backtesting.backtest_item_builder_functions import (\n",
    "    bibfn_selection_data_random,\n",
    "    bibfn_return_series,\n",
    "    bibfn_budget_constraint,\n",
    "    bibfn_box_constraints,\n",
    ")\n",
    "from backtesting.portfolio import floating_weights\n",
    "from backtesting.backtest_service import BacktestService\n",
    "from backtesting.backtest import Backtest"
   ]
  },
  {
   "cell_type": "markdown",
   "metadata": {},
   "source": [
    "### Data load"
   ]
  },
  {
   "cell_type": "code",
   "execution_count": 3,
   "metadata": {},
   "outputs": [],
   "source": [
    "N = 24\n",
    "data = load_data_msci(path = '../data/', n = N)  #<Change the path if needed>"
   ]
  },
  {
   "cell_type": "markdown",
   "metadata": {},
   "source": [
    "### Prepare backtest service"
   ]
  },
  {
   "cell_type": "code",
   "execution_count": 4,
   "metadata": {},
   "outputs": [],
   "source": [
    "# Define rebalancing dates\n",
    "n_days = 21 * 3\n",
    "start_date = '2010-01-01'\n",
    "dates = data['return_series'].index\n",
    "rebdates = dates[dates > start_date][::n_days].strftime('%Y-%m-%d').tolist()\n",
    "\n",
    "# Define the selection item builders.\n",
    "selection_item_builders = {\n",
    "    'data': SelectionItemBuilder(\n",
    "        bibfn = bibfn_selection_data_random,\n",
    "        k = 10,\n",
    "        seed = 42,\n",
    "    ),\n",
    "}\n",
    "\n",
    "# Define the optimization item builders.\n",
    "optimization_item_builders = {\n",
    "    'return_series': OptimizationItemBuilder(\n",
    "        bibfn = bibfn_return_series,\n",
    "        width = 365 * 3,\n",
    "    ),\n",
    "    'budget_constraint': OptimizationItemBuilder(\n",
    "        bibfn = bibfn_budget_constraint,\n",
    "        budget = 1,\n",
    "    ),\n",
    "    'box_constraints': OptimizationItemBuilder(\n",
    "        bibfn = bibfn_box_constraints,\n",
    "        upper = 0.5,\n",
    "    ),\n",
    "}\n",
    "\n",
    "# Initialize the backtest service\n",
    "bs = BacktestService(\n",
    "    data = data,\n",
    "    selection_item_builders = selection_item_builders,\n",
    "    optimization_item_builders = optimization_item_builders,\n",
    "    optimization = MeanVariance(\n",
    "        covariance = Covariance(method = 'pearson'),\n",
    "        expected_return = ExpectedReturn(method = 'geometric'),\n",
    "        risk_aversion = 1,\n",
    "        solver_name = 'cvxopt',\n",
    "    ),\n",
    "    rebdates = rebdates,\n",
    ")"
   ]
  },
  {
   "cell_type": "markdown",
   "metadata": {},
   "source": [
    "### Run the backtest"
   ]
  },
  {
   "cell_type": "code",
   "execution_count": 5,
   "metadata": {},
   "outputs": [
    {
     "name": "stdout",
     "output_type": "stream",
     "text": [
      "Rebalancing date: 2010-01-04\n",
      "Rebalancing date: 2010-04-01\n",
      "Rebalancing date: 2010-06-29\n",
      "Rebalancing date: 2010-09-24\n",
      "Rebalancing date: 2010-12-22\n",
      "Rebalancing date: 2011-03-21\n",
      "Rebalancing date: 2011-06-16\n",
      "Rebalancing date: 2011-09-13\n",
      "Rebalancing date: 2011-12-09\n",
      "Rebalancing date: 2012-03-07\n",
      "Rebalancing date: 2012-06-04\n",
      "Rebalancing date: 2012-08-30\n",
      "Rebalancing date: 2012-11-27\n",
      "Rebalancing date: 2013-02-22\n",
      "Rebalancing date: 2013-05-22\n",
      "Rebalancing date: 2013-08-19\n",
      "Rebalancing date: 2013-11-14\n",
      "Rebalancing date: 2014-02-11\n",
      "Rebalancing date: 2014-05-09\n",
      "Rebalancing date: 2014-08-06\n",
      "Rebalancing date: 2014-11-03\n",
      "Rebalancing date: 2015-01-29\n",
      "Rebalancing date: 2015-04-28\n",
      "Rebalancing date: 2015-07-24\n",
      "Rebalancing date: 2015-10-21\n",
      "Rebalancing date: 2016-01-18\n",
      "Rebalancing date: 2016-04-14\n",
      "Rebalancing date: 2016-07-12\n",
      "Rebalancing date: 2016-10-07\n",
      "Rebalancing date: 2017-01-04\n",
      "Rebalancing date: 2017-04-03\n",
      "Rebalancing date: 2017-06-29\n",
      "Rebalancing date: 2017-09-26\n",
      "Rebalancing date: 2017-12-22\n",
      "Rebalancing date: 2018-03-21\n",
      "Rebalancing date: 2018-06-18\n",
      "Rebalancing date: 2018-09-13\n",
      "Rebalancing date: 2018-12-11\n",
      "Rebalancing date: 2019-03-08\n",
      "Rebalancing date: 2019-06-05\n",
      "Rebalancing date: 2019-09-02\n",
      "Rebalancing date: 2019-11-28\n",
      "Rebalancing date: 2020-02-25\n",
      "Rebalancing date: 2020-05-22\n",
      "Rebalancing date: 2020-08-19\n",
      "Rebalancing date: 2020-11-16\n",
      "Rebalancing date: 2021-02-11\n",
      "Rebalancing date: 2021-05-11\n",
      "Rebalancing date: 2021-08-06\n",
      "Rebalancing date: 2021-11-03\n",
      "Rebalancing date: 2022-01-31\n",
      "Rebalancing date: 2022-04-28\n",
      "Rebalancing date: 2022-07-26\n",
      "Rebalancing date: 2022-10-21\n",
      "Rebalancing date: 2023-01-18\n",
      "Rebalancing date: 2023-04-17\n"
     ]
    }
   ],
   "source": [
    "# Instantiate the backtest object and run the backtest\n",
    "bt_mv = Backtest()\n",
    "\n",
    "# Run the backtest\n",
    "bt_mv.run(bs = bs)"
   ]
  },
  {
   "cell_type": "markdown",
   "metadata": {},
   "source": [
    "## 1. Turnover\n",
    "\n",
    "**(6 points)**\n",
    "\n",
    "Complete the function `turnover`."
   ]
  },
  {
   "cell_type": "code",
   "execution_count": 50,
   "metadata": {},
   "outputs": [],
   "source": [
    "\n",
    "def turnover(self, return_series: pd.DataFrame, rescale: bool=True):\n",
    "\n",
    "    dates = self.get_rebalancing_dates()\n",
    "    turnover_data = {}\n",
    "    turnover_data[dates[0]] = float(1)\n",
    "\n",
    "    for rebalancing_date in dates[1:]:\n",
    "\n",
    "        previous_portfolio = self.get_previous_portfolio(rebalancing_date)\n",
    "        current_portfolio = self.get_portfolio(rebalancing_date)\n",
    "\n",
    "        # Get the union of the ids of the weights in both portfolios (previous and current)\n",
    "        prev_ids = set(previous_portfolio.weights.keys())\n",
    "        current_ids = set(current_portfolio.weights.keys())\n",
    "        all_ids = list(prev_ids.union(current_ids))\n",
    "        #print(all_ids)\n",
    "\n",
    "        # Extend the weights of the previous portfolio to the the union of ids in both portfolios by adding zeros\n",
    "        prev_weights_extended = pd.Series(\n",
    "            index=all_ids,\n",
    "            data=[previous_portfolio.weights.get(id, 0) for id in all_ids]\n",
    "        )\n",
    "        #print(prev_weights_extended)\n",
    "        \n",
    "        # Float the weights of the previous portfolio according to the price drifts in the market\n",
    "        # until the current rebalancing date\n",
    "        # Hint: use function floating_weights from module portfolio.py\n",
    "        previous_date = dates[dates.index(rebalancing_date) - 1]  # Get previous rebalancing date\n",
    "        floated_weights = floating_weights(\n",
    "            X=return_series,\n",
    "            w=prev_weights_extended,\n",
    "            start_date=previous_date,\n",
    "            end_date=rebalancing_date,\n",
    "            rescale=rescale\n",
    "        )\n",
    "        #print(floated_weights)\n",
    "\n",
    "        # Extract the weights of the current portfolio\n",
    "        current_weights = pd.Series(\n",
    "            index=all_ids,\n",
    "            data=[current_portfolio.weights.get(id, 0) for id in all_ids]\n",
    "        )\n",
    "\n",
    "        # Calculate the turnover\n",
    "        weights_diff = np.abs(current_weights.values - floated_weights.values)\n",
    "        turnover_data[rebalancing_date] = float(np.sum(weights_diff))\n",
    "\n",
    "    return pd.Series(turnover_data, dtype=float)\n"
   ]
  },
  {
   "cell_type": "markdown",
   "metadata": {},
   "source": [
    "2: Simulation\n",
    "\n",
    "(6 points)\n",
    "\n",
    "Complete the function `simulate`."
   ]
  },
  {
   "cell_type": "code",
   "execution_count": 11,
   "metadata": {},
   "outputs": [],
   "source": [
    "def simulate(self,\n",
    "                return_series: pd.DataFrame,\n",
    "                fc: float = 0,\n",
    "                vc: float = 0,\n",
    "                n_days_per_year: int = 252) -> pd.Series:\n",
    "\n",
    "    rebdates = self.get_rebalancing_dates()\n",
    "    ret_list = []\n",
    "    for rebdate in rebdates:\n",
    "        next_rebdate = (\n",
    "            rebdates[rebdates.index(rebdate) + 1]\n",
    "            if rebdate < rebdates[-1]\n",
    "            else return_series.index[-1]\n",
    "        )\n",
    "\n",
    "        portfolio = self.get_portfolio(rebdate)\n",
    "        w_float = portfolio.float_weights(\n",
    "            return_series=return_series,\n",
    "            end_date=next_rebdate,\n",
    "            rescale=False # Notice that rescale is hardcoded to False.\n",
    "        )\n",
    "        level = w_float.sum(axis=1)\n",
    "        ret_tmp = level.pct_change(1)\n",
    "        ret_list.append(ret_tmp)\n",
    "\n",
    "    portf_ret = pd.concat(ret_list).dropna()\n",
    "\n",
    "    if vc != 0:\n",
    "        # Calculate turnover\n",
    "        to = self.turnover(return_series=return_series,\n",
    "                         rescale=False)\n",
    "        # Calculate variable cost (vc) as a fraction of turnover and\n",
    "        # subtract the variable cost from the returns at each rebalancing date\n",
    "\n",
    "        for rebdate in rebdates:\n",
    "            if rebdate in to.index and rebdate in portf_ret.index:\n",
    "                # Subtract the variable cost on the rebalancing date\n",
    "                # Variable cost = turnover * variable cost rate\n",
    "                portf_ret.loc[rebdate] -= to.loc[rebdate] * vc\n",
    "\n",
    "    if fc != 0:\n",
    "        # Calculate number of days between returns\n",
    "        days_between = portf_ret.index.to_series().diff().dt.days\n",
    "\n",
    "        # Calculate daily fixed cost based on the annual fixed cost (fc),\n",
    "        # the number of days between two rebalancings and the number of days per year\n",
    "        daily_fc = (fc / n_days_per_year)\n",
    "\n",
    "        # Subtract the daily fixed cost from the daily returns\n",
    "        portf_ret = portf_ret - daily_fc\n",
    "\n",
    "    return portf_ret"
   ]
  },
  {
   "cell_type": "markdown",
   "metadata": {},
   "source": [
    "Overwrite the turnover and the simulation methods of the current strategy object."
   ]
  },
  {
   "cell_type": "code",
   "execution_count": 51,
   "metadata": {},
   "outputs": [],
   "source": [
    "# Overwrite the turnover method of the strategy object\n",
    "bt_mv.strategy.turnover = types.MethodType(turnover, bt_mv.strategy)\n",
    "\n",
    "# Overwrite the simulate method of the strategy object\n",
    "#bt_mv.strategy.simulate = types.MethodType(simulate, bt_mv.strategy)"
   ]
  },
  {
   "cell_type": "markdown",
   "metadata": {},
   "source": [
    "Calculate and plot the turnover."
   ]
  },
  {
   "cell_type": "code",
   "execution_count": 58,
   "metadata": {},
   "outputs": [
    {
     "data": {
      "image/png": "[encoded data removed]",
      "text/plain": [
       "<Figure size 1200x600 with 1 Axes>"
      ]
     },
     "metadata": {},
     "output_type": "display_data"
    }
   ],
   "source": [
    "res = bt_mv.strategy.turnover(\n",
    "    return_series = data['return_series'],\n",
    "    rescale = True,\n",
    ").plot(\n",
    "    title='Portfolio Turnover Over Time',\n",
    "    figsize=(12, 6),\n",
    "    grid=True,\n",
    "    ylabel='Turnover',\n",
    "    xlabel='Date'\n",
    ")\n",
    "\n",
    "#print(res)\n",
    "#print(\"Data type:\", res.dtype)\n",
    "\n",
    "#bt_mv.strategy.turnover(\n",
    "#    return_series = data['return_series'],\n",
    "#    rescale = True,\n",
    "#).plot(title = 'Turnover', figsize = (10, 5))\n"
   ]
  },
  {
   "cell_type": "markdown",
   "metadata": {},
   "source": [
    "Simulate with different cost assumptions."
   ]
  },
  {
   "cell_type": "code",
   "execution_count": null,
   "metadata": {},
   "outputs": [],
   "source": [
    "return_series = bs.data['return_series']\n",
    "\n",
    "sim_mv_gross = bt_mv.strategy.simulate(return_series=return_series, fc=0, vc=0)\n",
    "sim_mv_net_of_fc = bt_mv.strategy.simulate(return_series=return_series, fc=0.01, vc=0)\n",
    "sim_mv_net_of_vc = bt_mv.strategy.simulate(return_series=return_series, fc=0, vc=0.002)\n",
    "sim_mv_net = bt_mv.strategy.simulate(return_series=return_series, fc=0.01, vc=0.002)\n"
   ]
  },
  {
   "cell_type": "markdown",
   "metadata": {},
   "source": [
    "Plot the cumulative returns."
   ]
  },
  {
   "cell_type": "code",
   "execution_count": null,
   "metadata": {},
   "outputs": [],
   "source": [
    "sim = pd.concat({\n",
    "    'mv_gross': sim_mv_gross,\n",
    "    'mv_net_of_fc': sim_mv_net_of_fc,\n",
    "    'mv_net_of_vc': sim_mv_net_of_vc,\n",
    "    'mv_net': sim_mv_net,\n",
    "}, axis = 1).dropna()\n",
    "\n",
    "\n",
    "np.log((1 + sim)).cumsum().plot(figsize = (10, 6))"
   ]
  },
  {
   "cell_type": "markdown",
   "metadata": {},
   "source": [
    "3: Descriptive Statistics\n",
    "\n",
    "(3 points)\n",
    "\n",
    "Generate a table with descriptive statistics of the simulations. Include the following statistics:\n",
    "- cumulative return (i.e., the return over the entire simulation period)\n",
    "- annualized average returns\n",
    "- annualized volatility\n",
    "- sharpe ratio\n",
    "- maximum drawdown"
   ]
  },
  {
   "cell_type": "code",
   "execution_count": null,
   "metadata": {},
   "outputs": [],
   "source": [
    "import empyrical as ep\n",
    "\n",
    "# Compute individual performance metrics for each simulated strategy using empyrical\n",
    "annual_return = {}\n",
    "cumulative_returns = {}\n",
    "annual_volatility = {}\n",
    "sharpe_ratio = {}\n",
    "max_drawdown = {}\n",
    "\n",
    "for column in sim.columns:\n",
    "    print(f'Performance metrics for {column}')\n",
    "    annual_return[column] = ep.annual_return(sim[column])\n",
    "    cumulative_returns[column] = ep.cum_returns(sim[column]).tail(1).values[0]\n",
    "    annual_volatility[column] = ep.annual_volatility(sim[column])\n",
    "    sharpe_ratio[column] = ep.sharpe_ratio(sim[column])\n",
    "    max_drawdown[column] = ep.max_drawdown(sim[column])\n",
    "\n",
    "# Create DataFrames for each metric\n",
    "annual_returns = pd.DataFrame(annual_return, index=['Annual Return'])\n",
    "cumret = pd.DataFrame(cumulative_returns, index=['Cumulative Return'])\n",
    "annual_volatility = pd.DataFrame(annual_volatility, index=['Annual Volatility'])\n",
    "sharpe = pd.DataFrame(sharpe_ratio, index=['Sharpe Ratio'])\n",
    "mdd = pd.DataFrame(max_drawdown, index=['Max Drawdown'])\n",
    "\n",
    "# Combine all metrics into a single DataFrame\n",
    "performance_metrics = pd.concat([annual_returns, cumret, annual_volatility, sharpe, mdd])\n",
    "\n",
    "# Display the performance metrics\n",
    "performance_metrics"
   ]
  }
 ],
 "metadata": {
  "kernelspec": {
   "display_name": ".venv",
   "language": "python",
   "name": "python3"
  },
  "language_info": {
   "codemirror_mode": {
    "name": "ipython",
    "version": 3
   },
   "file_extension": ".py",
   "mimetype": "text/x-python",
   "name": "python",
   "nbconvert_exporter": "python",
   "pygments_lexer": "ipython3",
   "version": "3.13.2"
  }
 },
 "nbformat": 4,
 "nbformat_minor": 2
}
